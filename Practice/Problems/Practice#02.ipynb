{
 "cells": [
  {
   "cell_type": "markdown",
   "metadata": {},
   "source": [
    "### **Problem #02: Inverse Demand Function Analysis**  \n",
    "\n",
    "The inverse demand function of a group of consumers for a given type of widgets is given by:\n",
    "\n",
    "$$\n",
    "\\pi = -8q + 2500 \\quad [\\$/\\text{unit}]\n",
    "$$\n",
    "\n",
    "where:\n",
    "- $ q $ represents **demand (quantity of widgets purchased)**.\n",
    "- $ \\pi $ represents **the unit price ($/unit) of the widgets**.\n",
    "\n",
    "We will determine:\n",
    "1. **The maximum consumption of these consumers**.\n",
    "2. **The price that no consumer is prepared to pay for this product**.\n",
    "3. **The maximum consumers’ surplus** and why it cannot be realized.\n",
    "4. **The change in consumption and revenue when price increases by 25%**.\n",
    "\n",
    "---"
   ]
  },
  {
   "cell_type": "markdown",
   "metadata": {},
   "source": []
  }
 ],
 "metadata": {
  "language_info": {
   "name": "python"
  }
 },
 "nbformat": 4,
 "nbformat_minor": 2
}
