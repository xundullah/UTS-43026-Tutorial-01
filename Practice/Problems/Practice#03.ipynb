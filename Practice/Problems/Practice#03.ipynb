{
 "cells": [
  {
   "cell_type": "markdown",
   "metadata": {},
   "source": [
    "### **Problem #03: Market Equilibrium and Surplus Calculation**  \n",
    "\n",
    "Economists estimate that the following equation defines the **supply function** for the widget market:\n",
    "\n",
    "$$\n",
    "q = 0.25\\pi - 50\n",
    "$$\n",
    "\n",
    "where:\n",
    "- $ q $ represents **quantity supplied**.\n",
    "- $ \\pi $ represents **the unit price ($/unit)**.\n",
    "\n",
    "The **inverse demand function** for this market is given as:\n",
    "\n",
    "$$\n",
    "\\pi = -8q + 2500\n",
    "$$\n",
    "\n",
    "We will determine:\n",
    "1. **The equilibrium price and quantity** (where demand equals supply).\n",
    "2. **Consumer surplus (CS)**.\n",
    "3. **Producer surplus (PS)**.\n",
    "4. **Total surplus (TS = CS + PS)**.\n",
    "\n",
    "---"
   ]
  },
  {
   "cell_type": "markdown",
   "metadata": {},
   "source": []
  }
 ],
 "metadata": {
  "language_info": {
   "name": "python"
  }
 },
 "nbformat": 4,
 "nbformat_minor": 2
}
