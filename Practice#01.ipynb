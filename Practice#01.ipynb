{
 "cells": [
  {
   "cell_type": "markdown",
   "metadata": {},
   "source": [
    "### **Similar Practice Session (Excercise#01): Marginal Cost, Revenue, and Profit Calculation**\n",
    "\n",
    "A manufacturer estimates that the following function represents the **total variable cost** for manufacturing a product:\n",
    "\n",
    "$$\n",
    "C(q) = 30q^2 + 1500q\n",
    "$$\n",
    "\n",
    "where:\n",
    "- $ C(q) $ represents the **total cost** of producing $ q $ units.\n",
    "- $ q $ is the **quantity** of products manufactured.\n",
    "\n",
    "You will derive expressions for:\n",
    "1. **Marginal Cost (MC)** – the additional cost of producing one more unit.\n",
    "2. **Revenue (R)** – the total money earned from selling the products.\n",
    "3. **Profit ($\\Pi$)** – the total earnings after deducting costs from revenue.\n",
    "\n",
    "---\n",
    "\n",
    "\n"
   ]
  },
  {
   "cell_type": "markdown",
   "metadata": {},
   "source": []
  }
 ],
 "metadata": {
  "language_info": {
   "name": "python"
  }
 },
 "nbformat": 4,
 "nbformat_minor": 2
}
